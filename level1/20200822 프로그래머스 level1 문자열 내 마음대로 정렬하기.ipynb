{
 "cells": [
  {
   "cell_type": "code",
   "execution_count": 27,
   "metadata": {},
   "outputs": [],
   "source": [
    "strings = [\"abcd\", \"abce\", \"cdx\"]; n = 1"
   ]
  },
  {
   "cell_type": "code",
   "execution_count": 28,
   "metadata": {},
   "outputs": [],
   "source": [
    "string = []\n",
    "def swap(strings, x, y):\n",
    "    strings[x], strings[y] = strings[y], strings[x]\n",
    "\n",
    "def solution(strings, n):\n",
    "    for i in range(len(strings)):\n",
    "        string.append(strings[i][n])\n",
    "    for size in reversed((range(len(strings)))):\n",
    "        for i in range(size):\n",
    "            if(string[i] > string[i+1]):\n",
    "                swap(string, i, i+1)\n",
    "                swap(strings, i, i+1)\n",
    "            elif(string[i] == string[i+1]):\n",
    "                if(strings[i] > strings[i+1]):\n",
    "                    swap(string, i, i+1)\n",
    "                    swap(strings, i, i+1)\n",
    "    return strings"
   ]
  },
  {
   "cell_type": "code",
   "execution_count": 29,
   "metadata": {},
   "outputs": [
    {
     "data": {
      "text/plain": [
       "['abcd', 'abce', 'cdx']"
      ]
     },
     "execution_count": 29,
     "metadata": {},
     "output_type": "execute_result"
    }
   ],
   "source": [
    "solution(strings, n)"
   ]
  },
  {
   "cell_type": "code",
   "execution_count": null,
   "metadata": {},
   "outputs": [],
   "source": []
  }
 ],
 "metadata": {
  "kernelspec": {
   "display_name": "Python 3",
   "language": "python",
   "name": "python3"
  },
  "language_info": {
   "codemirror_mode": {
    "name": "ipython",
    "version": 3
   },
   "file_extension": ".py",
   "mimetype": "text/x-python",
   "name": "python",
   "nbconvert_exporter": "python",
   "pygments_lexer": "ipython3",
   "version": "3.8.3"
  }
 },
 "nbformat": 4,
 "nbformat_minor": 2
}
