{
 "cells": [
  {
   "cell_type": "code",
   "execution_count": 5,
   "metadata": {},
   "outputs": [],
   "source": [
    "s = '-1234'; answer = 0"
   ]
  },
  {
   "cell_type": "code",
   "execution_count": 6,
   "metadata": {},
   "outputs": [],
   "source": [
    "s = list(s)"
   ]
  },
  {
   "cell_type": "code",
   "execution_count": 7,
   "metadata": {},
   "outputs": [],
   "source": [
    "#첫 번째 방법 (런타임에러)\n",
    "if(s[0] == '+'):\n",
    "    del s[0]\n",
    "    answer = int(\"\".join(s))\n",
    "elif(s[0] == '-'):\n",
    "    del s[0]\n",
    "    answer = int(\"\".join(s)) * -1\n",
    "else:\n",
    "    answer = int(s)"
   ]
  },
  {
   "cell_type": "code",
   "execution_count": null,
   "metadata": {},
   "outputs": [],
   "source": [
    "# 두번째 방법\n",
    "try:\n",
    "    answer = int(s)\n",
    "except:\n",
    "    if(s[0] == '+'):\n",
    "        del s[0]\n",
    "        answer = int(\"\".join(s))\n",
    "    else:\n",
    "        del s[0]\n",
    "        answer = int(\"\".join(s)) * -1"
   ]
  }
 ],
 "metadata": {
  "kernelspec": {
   "display_name": "Python 3",
   "language": "python",
   "name": "python3"
  },
  "language_info": {
   "codemirror_mode": {
    "name": "ipython",
    "version": 3
   },
   "file_extension": ".py",
   "mimetype": "text/x-python",
   "name": "python",
   "nbconvert_exporter": "python",
   "pygments_lexer": "ipython3",
   "version": "3.7.4"
  }
 },
 "nbformat": 4,
 "nbformat_minor": 4
}
