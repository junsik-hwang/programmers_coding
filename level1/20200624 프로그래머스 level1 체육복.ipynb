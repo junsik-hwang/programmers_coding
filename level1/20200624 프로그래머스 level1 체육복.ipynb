{
 "cells": [
  {
   "cell_type": "code",
   "execution_count": 92,
   "metadata": {},
   "outputs": [],
   "source": [
    "n = 5; lost = [2,4]; reserve = [3,5]; answer = 0"
   ]
  },
  {
   "cell_type": "code",
   "execution_count": 93,
   "metadata": {},
   "outputs": [],
   "source": [
    "for j in reserve:\n",
    "    if(j in lost):\n",
    "        del lost[lost.index(j)]\n",
    "        del reserve[reserve.index(j)]\n",
    "for i in range(len(reserve)):\n",
    "    if(reserve[i]-1 in lost):\n",
    "        del lost[lost.index(reserve[i]-1)]\n",
    "    elif(reserve[i]+1 in lost):\n",
    "        del lost[lost.index(reserve[i]+1)]\n",
    "answer = n-len(lost)"
   ]
  },
  {
   "cell_type": "code",
   "execution_count": 94,
   "metadata": {},
   "outputs": [
    {
     "data": {
      "text/plain": [
       "5"
      ]
     },
     "execution_count": 94,
     "metadata": {},
     "output_type": "execute_result"
    }
   ],
   "source": [
    "answer"
   ]
  },
  {
   "cell_type": "code",
   "execution_count": null,
   "metadata": {},
   "outputs": [],
   "source": []
  }
 ],
 "metadata": {
  "kernelspec": {
   "display_name": "Python 3",
   "language": "python",
   "name": "python3"
  },
  "language_info": {
   "codemirror_mode": {
    "name": "ipython",
    "version": 3
   },
   "file_extension": ".py",
   "mimetype": "text/x-python",
   "name": "python",
   "nbconvert_exporter": "python",
   "pygments_lexer": "ipython3",
   "version": "3.7.4"
  }
 },
 "nbformat": 4,
 "nbformat_minor": 4
}
