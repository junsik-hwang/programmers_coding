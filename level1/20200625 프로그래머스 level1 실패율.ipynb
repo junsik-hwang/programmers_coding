{
 "cells": [
  {
   "cell_type": "code",
   "execution_count": null,
   "metadata": {},
   "outputs": [],
   "source": [
    "\"\"\"\n",
    "전체 스테이지 개수 : N (1 ~ 500)\n",
    "게임을 하는 사용자가 현재 멈춰있는 스테이지의 번호 배열 : stages (1 ~ 200,000)\n",
    "실패율 = 스테이지 도달했지만 아직 클리어못한 플레이어 수 / 스테이지 도달한 수\n",
    "\n",
    "실패율이 높은 스테이지부터 내림차순으로 스테이지 번호 배열을 리턴!\n",
    "\"\"\""
   ]
  },
  {
   "cell_type": "code",
   "execution_count": 56,
   "metadata": {},
   "outputs": [],
   "source": [
    "N = 5; stages = [2, 1, 2, 6, 2, 4, 3, 3]; stage = []; stage_score = []\n",
    "l = len(stages); count = 0; answer =[]"
   ]
  },
  {
   "cell_type": "code",
   "execution_count": 57,
   "metadata": {},
   "outputs": [],
   "source": [
    "for i in range(1,max(stages)+1):\n",
    "    for j in range(len(stages)):\n",
    "        if(i == stages[j]):\n",
    "            count += 1\n",
    "    if(i > N):\n",
    "        pass\n",
    "    else:\n",
    "        stage_score.append(count/l)\n",
    "        l -= count\n",
    "        stage.append(i)\n",
    "    count = 0"
   ]
  },
  {
   "cell_type": "code",
   "execution_count": 66,
   "metadata": {},
   "outputs": [
    {
     "data": {
      "text/plain": [
       "3"
      ]
     },
     "execution_count": 66,
     "metadata": {},
     "output_type": "execute_result"
    }
   ],
   "source": [
    "stages.count(2)"
   ]
  },
  {
   "cell_type": "code",
   "execution_count": 59,
   "metadata": {},
   "outputs": [
    {
     "data": {
      "text/plain": [
       "[0.125, 0.42857142857142855, 0.5, 0.5, 0.0]"
      ]
     },
     "execution_count": 59,
     "metadata": {},
     "output_type": "execute_result"
    }
   ],
   "source": [
    "stage_score"
   ]
  },
  {
   "cell_type": "code",
   "execution_count": 60,
   "metadata": {},
   "outputs": [],
   "source": [
    "for i in range(len(stage_score)):\n",
    "    answer.append(stage_score.index(max(stage_score))+1)\n",
    "    stage_score[stage_score.index(max(stage_score))] = -1"
   ]
  },
  {
   "cell_type": "code",
   "execution_count": 61,
   "metadata": {},
   "outputs": [
    {
     "data": {
      "text/plain": [
       "[3, 4, 2, 1, 5]"
      ]
     },
     "execution_count": 61,
     "metadata": {},
     "output_type": "execute_result"
    }
   ],
   "source": [
    "answer"
   ]
  },
  {
   "cell_type": "code",
   "execution_count": null,
   "metadata": {},
   "outputs": [],
   "source": []
  },
  {
   "cell_type": "code",
   "execution_count": 62,
   "metadata": {},
   "outputs": [],
   "source": [
    "for i in range(1, N+1):\n",
    "    [count += 1 for i in range(1,N+1) if(i in stages)]"
   ]
  },
  {
   "cell_type": "code",
   "execution_count": 67,
   "metadata": {},
   "outputs": [],
   "source": [
    "def solution(N, stages):\n",
    "    stage_score = []; l = len(stages); count = 0\n",
    "    answer = []\n",
    "    for i in range(1,N+1):\n",
    "        count = stages.count(i)\n",
    "        stage_score.append(count/l)\n",
    "        l -= count\n",
    "        count = 0\n",
    "    for i in range(len(stage_score)):\n",
    "        answer.append(stage_score.index(max(stage_score))+1)\n",
    "        stage_score[stage_score.index(max(stage_score))] = -1\n",
    "    return answer"
   ]
  },
  {
   "cell_type": "code",
   "execution_count": null,
   "metadata": {},
   "outputs": [],
   "source": [
    "def solution(N, stages):\n",
    "    stage_score = []; l = len(stages); count = 0\n",
    "    answer = []\n",
    "    for i in range(1,N+1):\n",
    "        count = stages.count(i)\n",
    "        if(count == 0):\n",
    "            stage_score.append(count)\n",
    "        else:\n",
    "            stage_score.append(count/l)\n",
    "        l -= count\n",
    "        count = 0\n",
    "    for i in range(len(stage_score)):\n",
    "        answer.append((stage_score.index(max(stage_score)))+1)\n",
    "        stage_score[stage_score.index(max(stage_score))] = -1\n",
    "    return answer\n",
    "\n",
    "# count 가 0 일때 나누어주면 runtime error 발생!"
   ]
  }
 ],
 "metadata": {
  "kernelspec": {
   "display_name": "Python 3",
   "language": "python",
   "name": "python3"
  },
  "language_info": {
   "codemirror_mode": {
    "name": "ipython",
    "version": 3
   },
   "file_extension": ".py",
   "mimetype": "text/x-python",
   "name": "python",
   "nbconvert_exporter": "python",
   "pygments_lexer": "ipython3",
   "version": "3.7.4"
  }
 },
 "nbformat": 4,
 "nbformat_minor": 4
}
