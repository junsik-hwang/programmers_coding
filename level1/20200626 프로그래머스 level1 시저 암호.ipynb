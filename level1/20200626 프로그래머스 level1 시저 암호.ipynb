{
 "cells": [
  {
   "cell_type": "code",
   "execution_count": 19,
   "metadata": {},
   "outputs": [],
   "source": [
    "s = \"Z\"; n = 1; answer = ''"
   ]
  },
  {
   "cell_type": "code",
   "execution_count": 20,
   "metadata": {},
   "outputs": [],
   "source": [
    "# ord() : 문자를 아스키코드로 변환\n",
    "# chr() : 아스키코드를 문자로 변환\n",
    "s = list(s)\n",
    "for i in range(len(s)):\n",
    "    if(s[i] == ' '):\n",
    "        pass\n",
    "    else:\n",
    "        s[i] = ord(s[i])\n",
    "        if(s[i] + n > 122):\n",
    "            s[i] = chr(s[i] + n - 26)\n",
    "        elif(s[i] + n >= 91 and s[i] <= 96):\n",
    "            s[i] = chr(s[i] + n - 26)\n",
    "        else:\n",
    "            s[i] = chr(s[i] + n)\n",
    "s = \"\".join(s)"
   ]
  },
  {
   "cell_type": "code",
   "execution_count": 21,
   "metadata": {},
   "outputs": [
    {
     "data": {
      "text/plain": [
       "'A'"
      ]
     },
     "execution_count": 21,
     "metadata": {},
     "output_type": "execute_result"
    }
   ],
   "source": [
    "s"
   ]
  },
  {
   "cell_type": "code",
   "execution_count": null,
   "metadata": {},
   "outputs": [],
   "source": [
    "def solution(s, n):\n",
    "    s = list(s)\n",
    "    for i in range(len(s)):\n",
    "        if(s[i] == ' '):\n",
    "            pass\n",
    "        else:\n",
    "            s[i] = ord(s[i])\n",
    "            if(s[i] + n > 122 or (s[i] + n >= 91 and s[i] <= 96)):\n",
    "                s[i] = chr(s[i] + n - 26)\n",
    "            else:\n",
    "                s[i] = chr(s[i] + n)\n",
    "    s = \"\".join(s)\n",
    "    return s"
   ]
  }
 ],
 "metadata": {
  "kernelspec": {
   "display_name": "Python 3",
   "language": "python",
   "name": "python3"
  },
  "language_info": {
   "codemirror_mode": {
    "name": "ipython",
    "version": 3
   },
   "file_extension": ".py",
   "mimetype": "text/x-python",
   "name": "python",
   "nbconvert_exporter": "python",
   "pygments_lexer": "ipython3",
   "version": "3.7.4"
  }
 },
 "nbformat": 4,
 "nbformat_minor": 4
}
