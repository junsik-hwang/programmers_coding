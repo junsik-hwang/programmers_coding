{
 "cells": [
  {
   "cell_type": "code",
   "execution_count": 83,
   "metadata": {},
   "outputs": [],
   "source": [
    "n = 5; arr1 = [9, 20, 28, 18, 11]; arr2 =[30, 1, 21, 17, 28]"
   ]
  },
  {
   "cell_type": "code",
   "execution_count": 84,
   "metadata": {},
   "outputs": [],
   "source": [
    "arr3, arr4, arr5 = [],[],[]"
   ]
  },
  {
   "cell_type": "code",
   "execution_count": 85,
   "metadata": {},
   "outputs": [],
   "source": [
    "for i in range(len(arr1)):\n",
    "    a = list(bin(arr1[i]))\n",
    "    b = list(bin(arr2[i]))\n",
    "    del a[0]; del a[0]; del b[0]; del b[0]\n",
    "    if(len(a) != n):\n",
    "        for i in range(n - len(a)):\n",
    "            a.insert(0,'0')\n",
    "        arr3.append(a)\n",
    "    else:\n",
    "        arr3.append(a)\n",
    "    if(len(b) != n):\n",
    "        for i in range(n - len(b)):\n",
    "            b.insert(0,'0')\n",
    "        arr4.append(b)\n",
    "    else:\n",
    "        arr4.append(b)"
   ]
  },
  {
   "cell_type": "code",
   "execution_count": 86,
   "metadata": {},
   "outputs": [
    {
     "data": {
      "text/plain": [
       "[['0', '1', '0', '0', '1'],\n",
       " ['1', '0', '1', '0', '0'],\n",
       " ['1', '1', '1', '0', '0'],\n",
       " ['1', '0', '0', '1', '0'],\n",
       " ['0', '1', '0', '1', '1']]"
      ]
     },
     "execution_count": 86,
     "metadata": {},
     "output_type": "execute_result"
    }
   ],
   "source": [
    "arr3"
   ]
  },
  {
   "cell_type": "code",
   "execution_count": 87,
   "metadata": {},
   "outputs": [
    {
     "data": {
      "text/plain": [
       "[['1', '1', '1', '1', '0'],\n",
       " ['0', '0', '0', '0', '1'],\n",
       " ['1', '0', '1', '0', '1'],\n",
       " ['1', '0', '0', '0', '1'],\n",
       " ['1', '1', '1', '0', '0']]"
      ]
     },
     "execution_count": 87,
     "metadata": {},
     "output_type": "execute_result"
    }
   ],
   "source": [
    "arr4"
   ]
  },
  {
   "cell_type": "code",
   "execution_count": 88,
   "metadata": {},
   "outputs": [],
   "source": [
    "for i in range(n):\n",
    "    arr5.append([])\n",
    "    for j in range(n):\n",
    "        if(int(arr3[i][j]) | int(arr4[i][j])):\n",
    "            arr5[i].append('#')\n",
    "        else:\n",
    "            arr5[i].append(' ')\n",
    "    arr5[i] = \"\".join(arr5[i])"
   ]
  },
  {
   "cell_type": "code",
   "execution_count": 89,
   "metadata": {},
   "outputs": [
    {
     "data": {
      "text/plain": [
       "['#####', '# # #', '### #', '#  ##', '#####']"
      ]
     },
     "execution_count": 89,
     "metadata": {},
     "output_type": "execute_result"
    }
   ],
   "source": [
    "arr5"
   ]
  }
 ],
 "metadata": {
  "kernelspec": {
   "display_name": "Python 3",
   "language": "python",
   "name": "python3"
  },
  "language_info": {
   "codemirror_mode": {
    "name": "ipython",
    "version": 3
   },
   "file_extension": ".py",
   "mimetype": "text/x-python",
   "name": "python",
   "nbconvert_exporter": "python",
   "pygments_lexer": "ipython3",
   "version": "3.7.4"
  }
 },
 "nbformat": 4,
 "nbformat_minor": 4
}
