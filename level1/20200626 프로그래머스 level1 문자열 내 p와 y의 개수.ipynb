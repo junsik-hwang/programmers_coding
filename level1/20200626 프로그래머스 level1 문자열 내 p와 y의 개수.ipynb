{
 "cells": [
  {
   "cell_type": "code",
   "execution_count": 2,
   "metadata": {},
   "outputs": [],
   "source": [
    "s = \"pPoooyY\""
   ]
  },
  {
   "cell_type": "code",
   "execution_count": 5,
   "metadata": {},
   "outputs": [],
   "source": [
    "s = s.lower()\n",
    "cnt_p, cnt_y = 0,0\n",
    "s = list(s)\n",
    "for i in range(len(s)):\n",
    "    if(s[i] == 'p'):\n",
    "        cnt_p += 1\n",
    "    elif(s[i] == 'y'):\n",
    "        cnt_y += 1\n",
    "    else:\n",
    "        pass\n",
    "if(cnt_p == cnt_y):\n",
    "    return True\n",
    "else:\n",
    "    return False"
   ]
  }
 ],
 "metadata": {
  "kernelspec": {
   "display_name": "Python 3",
   "language": "python",
   "name": "python3"
  },
  "language_info": {
   "codemirror_mode": {
    "name": "ipython",
    "version": 3
   },
   "file_extension": ".py",
   "mimetype": "text/x-python",
   "name": "python",
   "nbconvert_exporter": "python",
   "pygments_lexer": "ipython3",
   "version": "3.7.4"
  }
 },
 "nbformat": 4,
 "nbformat_minor": 4
}
