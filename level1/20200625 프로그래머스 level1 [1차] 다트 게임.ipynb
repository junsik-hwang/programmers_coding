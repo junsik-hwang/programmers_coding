{
 "cells": [
  {
   "cell_type": "code",
   "execution_count": 13,
   "metadata": {
    "collapsed": true
   },
   "outputs": [
    {
     "data": {
      "text/plain": [
       "'\\n총 3번의 기회\\n0 ~ 10 점 획득 가능\\n* : 해당점수 * 2 , 바로 전 점수 * 2(첫번째에 나올 시 첫번째 점수만 2배)\\n# : 해당점수 * -1\\n*# : 해당점수 * -2\\n*, #는 하나만 존재하거나 존재하지 않을 수 있음.\\n'"
      ]
     },
     "execution_count": 13,
     "metadata": {},
     "output_type": "execute_result"
    }
   ],
   "source": [
    "'''\n",
    "총 3번의 기회\n",
    "0 ~ 10 점 획득 가능\n",
    "* : 해당점수 * 2 , 바로 전 점수 * 2(첫번째에 나올 시 첫번째 점수만 2배)\n",
    "# : 해당점수 * -1\n",
    "*# : 해당점수 * -2\n",
    "*, #는 하나만 존재하거나 존재하지 않을 수 있음.\n",
    "'''"
   ]
  },
  {
   "cell_type": "code",
   "execution_count": 125,
   "metadata": {},
   "outputs": [],
   "source": [
    "dartResult = \"1D2S#10S\"; answer = []\n",
    "a, b, c, d = 0,0,0,1"
   ]
  },
  {
   "cell_type": "code",
   "execution_count": 126,
   "metadata": {},
   "outputs": [],
   "source": [
    "dartResult = list(dartResult)\n",
    "first, second, third = 0,0,0\n",
    "score = {'S':1, 'D':2, 'T':3}"
   ]
  },
  {
   "cell_type": "code",
   "execution_count": 127,
   "metadata": {},
   "outputs": [],
   "source": [
    "def award(n,m):\n",
    "    global a,b\n",
    "    if(dartResult[n] == '*'):\n",
    "        answer[m] *= 2\n",
    "        if(m != 0):\n",
    "            answer[m-1] *= 2\n",
    "        a += 1; b += 1\n",
    "    elif(dartResult[n] == '#'):\n",
    "        answer[m] *= -1\n",
    "        a += 1; b += 1\n",
    "    else: \n",
    "        b += 1"
   ]
  },
  {
   "cell_type": "code",
   "execution_count": 128,
   "metadata": {},
   "outputs": [],
   "source": [
    "while(a < len(dartResult)):\n",
    "    if(dartResult[a+d] == '0'):\n",
    "        c = 9\n",
    "    else:\n",
    "        d = 0\n",
    "    answer.append((int(dartResult[a])+c)**score[dartResult[a+d+1]])\n",
    "    c = 0\n",
    "    try:\n",
    "        a += (2+d)\n",
    "    except:\n",
    "        break\n",
    "    if(a < len(dartResult)):\n",
    "        award(a,b)\n",
    "    else:\n",
    "        break\n",
    "    d = 1"
   ]
  },
  {
   "cell_type": "code",
   "execution_count": 129,
   "metadata": {},
   "outputs": [
    {
     "data": {
      "text/plain": [
       "9"
      ]
     },
     "execution_count": 129,
     "metadata": {},
     "output_type": "execute_result"
    }
   ],
   "source": [
    "sum(answer)"
   ]
  },
  {
   "cell_type": "code",
   "execution_count": null,
   "metadata": {},
   "outputs": [],
   "source": [
    "answer = []; a, b, c, d = 0,0,0,1\n",
    "dartResult = list(dartResult)\n",
    "score = {'S':1, 'D':2, 'T':3}\n",
    "def award(n,m):\n",
    "    global a,b\n",
    "    if(dartResult[n] == '*'):\n",
    "        answer[m] *= 2\n",
    "        if(m != 0):\n",
    "            answer[m-1] *= 2\n",
    "        a += 1; b += 1\n",
    "    elif(dartResult[n] == '#'):\n",
    "        answer[m] *= -1\n",
    "        a += 1; b += 1\n",
    "    else: \n",
    "        b += 1\n",
    "while(a < len(dartResult)):\n",
    "    if(dartResult[a+d] == '0'):\n",
    "        c = 9\n",
    "    else:\n",
    "        d = 0\n",
    "    answer.append((int(dartResult[a])+c)**score[dartResult[a+d+1]])\n",
    "    c = 0\n",
    "    try:\n",
    "        a += (2+d)\n",
    "    except:\n",
    "        break\n",
    "    if(a < len(dartResult)):\n",
    "        award(a,b)\n",
    "    else:\n",
    "        break\n",
    "    d = 1"
   ]
  }
 ],
 "metadata": {
  "kernelspec": {
   "display_name": "Python 3",
   "language": "python",
   "name": "python3"
  },
  "language_info": {
   "codemirror_mode": {
    "name": "ipython",
    "version": 3
   },
   "file_extension": ".py",
   "mimetype": "text/x-python",
   "name": "python",
   "nbconvert_exporter": "python",
   "pygments_lexer": "ipython3",
   "version": "3.7.4"
  }
 },
 "nbformat": 4,
 "nbformat_minor": 4
}
