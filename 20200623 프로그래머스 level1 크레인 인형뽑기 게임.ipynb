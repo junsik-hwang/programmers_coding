{
 "cells": [
  {
   "cell_type": "code",
   "execution_count": 1,
   "metadata": {},
   "outputs": [],
   "source": [
    "board = [[0,0,0,0,0],[0,0,1,0,3],[0,2,5,0,1],[4,2,4,4,2],[3,5,1,3,1]]; moves = [1,5,3,5,1,2,1,4]"
   ]
  },
  {
   "cell_type": "code",
   "execution_count": 4,
   "metadata": {},
   "outputs": [
    {
     "data": {
      "text/plain": [
       "4"
      ]
     },
     "execution_count": 4,
     "metadata": {},
     "output_type": "execute_result"
    }
   ],
   "source": [
    "new_board = []; bucket = []; count = 0\n",
    "for i in range(len(board[0])):\n",
    "    new_board.append([])\n",
    "    for j in range(len(board)):\n",
    "        new_board[i].append(board[j][i])\n",
    "for i in moves:\n",
    "    for j in range(len(new_board[0])):\n",
    "        if(new_board[i-1][j] > 0 and count == 0):\n",
    "            bucket.append(new_board[i-1][j])\n",
    "            new_board[i-1][j] = 0\n",
    "            count = 1\n",
    "    count = 0\n",
    "b,c = len(bucket),len(bucket)\n",
    "while(1):\n",
    "    for i in range(len(bucket)):\n",
    "        try :\n",
    "            if(bucket[i] == bucket[i+1]):\n",
    "                del bucket[i]; del bucket[i]\n",
    "        except:\n",
    "            pass\n",
    "    if(b == len(bucket)):\n",
    "        break\n",
    "    else:\n",
    "        b = len(bucket)\n",
    "c-b"
   ]
  },
  {
   "cell_type": "code",
   "execution_count": null,
   "metadata": {},
   "outputs": [],
   "source": []
  }
 ],
 "metadata": {
  "kernelspec": {
   "display_name": "Python 3",
   "language": "python",
   "name": "python3"
  },
  "language_info": {
   "codemirror_mode": {
    "name": "ipython",
    "version": 3
   },
   "file_extension": ".py",
   "mimetype": "text/x-python",
   "name": "python",
   "nbconvert_exporter": "python",
   "pygments_lexer": "ipython3",
   "version": "3.7.4"
  }
 },
 "nbformat": 4,
 "nbformat_minor": 4
}
