{
 "cells": [
  {
   "cell_type": "code",
   "execution_count": 54,
   "metadata": {},
   "outputs": [],
   "source": [
    "arr = [1,1,3,3,0,1,1,2,9,9,5]"
   ]
  },
  {
   "cell_type": "code",
   "execution_count": 29,
   "metadata": {},
   "outputs": [],
   "source": [
    "# 첫 번째 방법\n",
    "n = 0\n",
    "for i in range(len(arr)):\n",
    "    try :\n",
    "        if(arr[n] == arr[n+1]):\n",
    "            del arr[n]\n",
    "        else:\n",
    "            n += 1\n",
    "    except:\n",
    "        break"
   ]
  },
  {
   "cell_type": "code",
   "execution_count": null,
   "metadata": {},
   "outputs": [],
   "source": []
  },
  {
   "cell_type": "code",
   "execution_count": 55,
   "metadata": {},
   "outputs": [],
   "source": [
    "# 두 번째 방법\n",
    "n = 0; answer = []\n",
    "while(n < len(arr)-1):\n",
    "    if(arr[n] == arr[n+1]):\n",
    "        if(n == len(arr)-2):\n",
    "            answer.append(arr[n])\n",
    "            n += 1\n",
    "        else:\n",
    "            n += 1\n",
    "    else:\n",
    "        answer.append(arr[n])\n",
    "        n += 1\n",
    "        if(n == len(arr)-1):\n",
    "            answer.append(arr[n])"
   ]
  },
  {
   "cell_type": "code",
   "execution_count": 56,
   "metadata": {},
   "outputs": [
    {
     "data": {
      "text/plain": [
       "[1, 3, 0, 1, 2, 9, 5]"
      ]
     },
     "execution_count": 56,
     "metadata": {},
     "output_type": "execute_result"
    }
   ],
   "source": [
    "answer"
   ]
  },
  {
   "cell_type": "code",
   "execution_count": null,
   "metadata": {},
   "outputs": [],
   "source": []
  }
 ],
 "metadata": {
  "kernelspec": {
   "display_name": "Python 3",
   "language": "python",
   "name": "python3"
  },
  "language_info": {
   "codemirror_mode": {
    "name": "ipython",
    "version": 3
   },
   "file_extension": ".py",
   "mimetype": "text/x-python",
   "name": "python",
   "nbconvert_exporter": "python",
   "pygments_lexer": "ipython3",
   "version": "3.7.4"
  }
 },
 "nbformat": 4,
 "nbformat_minor": 4
}
