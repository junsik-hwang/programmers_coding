{
 "cells": [
  {
   "cell_type": "code",
   "execution_count": 148,
   "metadata": {},
   "outputs": [],
   "source": [
    "answers = [1,2]; answerss = []; answer = []"
   ]
  },
  {
   "cell_type": "code",
   "execution_count": 149,
   "metadata": {},
   "outputs": [],
   "source": [
    "a = [1,2,3,4,5]; count_a = 0; a_a = 0\n",
    "b = [2,1,2,3,2,4,2,5]; count_b = 0; b_b = 0\n",
    "c = [3,3,1,1,2,2,4,4,5,5]; count_c = 0; c_c = 0"
   ]
  },
  {
   "cell_type": "code",
   "execution_count": 150,
   "metadata": {},
   "outputs": [],
   "source": [
    "for i in range(len(answers)):\n",
    "    if(a[a_a] == answers[i]):\n",
    "        count_a += 1\n",
    "    if(b[b_b] == answers[i]):\n",
    "        count_b += 1\n",
    "    if(c[c_c] == answers[i]):\n",
    "        count_c += 1\n",
    "    a_a += 1\n",
    "    b_b += 1\n",
    "    c_c += 1\n",
    "    if(len(a) == a_a):\n",
    "            a_a = 0\n",
    "    if(len(b) == b_b):\n",
    "            b_b = 0\n",
    "    if(len(c) == c_c):\n",
    "            c_c = 0\n",
    "answerss.append(count_a)\n",
    "answerss.append(count_b)\n",
    "answerss.append(count_c)"
   ]
  },
  {
   "cell_type": "code",
   "execution_count": 151,
   "metadata": {},
   "outputs": [
    {
     "data": {
      "text/plain": [
       "[2, 0, 0]"
      ]
     },
     "execution_count": 151,
     "metadata": {},
     "output_type": "execute_result"
    }
   ],
   "source": [
    "answerss"
   ]
  },
  {
   "cell_type": "code",
   "execution_count": 146,
   "metadata": {},
   "outputs": [],
   "source": [
    "if(len(set(answerss)) == 1):\n",
    "    answer = [1,2,3]\n",
    "elif(len(set(answerss)) == 2):\n",
    "    answer.append(answerss.index(max(answerss))+1)\n",
    "    answerss[answerss.index(max(answerss))] = 0\n",
    "    if(max(answerss) !=0):\n",
    "        answer.append(answerss.index(max(answerss))+1)\n",
    "else:\n",
    "    answer.append(answerss.index(max(answerss))+1)"
   ]
  },
  {
   "cell_type": "code",
   "execution_count": 147,
   "metadata": {},
   "outputs": [
    {
     "data": {
      "text/plain": [
       "[1, 1]"
      ]
     },
     "execution_count": 147,
     "metadata": {},
     "output_type": "execute_result"
    }
   ],
   "source": [
    "answer"
   ]
  },
  {
   "cell_type": "code",
   "execution_count": null,
   "metadata": {},
   "outputs": [],
   "source": []
  }
 ],
 "metadata": {
  "kernelspec": {
   "display_name": "Python 3",
   "language": "python",
   "name": "python3"
  },
  "language_info": {
   "codemirror_mode": {
    "name": "ipython",
    "version": 3
   },
   "file_extension": ".py",
   "mimetype": "text/x-python",
   "name": "python",
   "nbconvert_exporter": "python",
   "pygments_lexer": "ipython3",
   "version": "3.7.4"
  }
 },
 "nbformat": 4,
 "nbformat_minor": 4
}
