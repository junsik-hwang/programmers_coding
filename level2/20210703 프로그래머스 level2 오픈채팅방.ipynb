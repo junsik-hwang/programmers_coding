{
 "cells": [
  {
   "cell_type": "code",
   "execution_count": 10,
   "id": "2fd4a8cc",
   "metadata": {},
   "outputs": [],
   "source": [
    "record = [\"Enter uid1234 Muzi\", \"Enter uid4567 Prodo\",\"Leave uid1234\",\"Enter uid1234 Prodo\",\"Change uid4567 Ryan\"]"
   ]
  },
  {
   "cell_type": "code",
   "execution_count": 11,
   "id": "b047cf61",
   "metadata": {},
   "outputs": [],
   "source": [
    "def solution(record):\n",
    "    user_id = dict()\n",
    "    seq = []\n",
    "    ment = []\n",
    "\n",
    "    for i in record:\n",
    "        step = i.split()\n",
    "        if step[0] == 'Enter':\n",
    "            user_id[step[1]] = step[2]\n",
    "            seq.append(step[1])\n",
    "            ment.append(\"님이 들어왔습니다.\")\n",
    "\n",
    "        elif step[0] == 'Leave':\n",
    "            seq.append(step[1])\n",
    "            ment.append(\"님이 나갔습니다.\")\n",
    "\n",
    "        else:\n",
    "            user_id[step[1]] = step[2]\n",
    "            \n",
    "    answer = [user_id[seq[i]] + ment[i] for i in range(len(seq))]\n",
    "    return answer"
   ]
  },
  {
   "cell_type": "code",
   "execution_count": null,
   "id": "0dfa49dc",
   "metadata": {},
   "outputs": [],
   "source": []
  }
 ],
 "metadata": {
  "kernelspec": {
   "display_name": "Python 3",
   "language": "python",
   "name": "python3"
  },
  "language_info": {
   "codemirror_mode": {
    "name": "ipython",
    "version": 3
   },
   "file_extension": ".py",
   "mimetype": "text/x-python",
   "name": "python",
   "nbconvert_exporter": "python",
   "pygments_lexer": "ipython3",
   "version": "3.6.10"
  }
 },
 "nbformat": 4,
 "nbformat_minor": 5
}
