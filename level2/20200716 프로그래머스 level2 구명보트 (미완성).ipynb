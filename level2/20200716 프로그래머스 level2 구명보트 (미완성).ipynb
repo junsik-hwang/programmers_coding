{
 "cells": [
  {
   "cell_type": "code",
   "execution_count": 54,
   "metadata": {},
   "outputs": [],
   "source": [
    "people = [70, 50, 80, 50]; limit = 100"
   ]
  },
  {
   "cell_type": "code",
   "execution_count": 55,
   "metadata": {},
   "outputs": [],
   "source": [
    "import numpy as np\n",
    "def solution(people, limit):\n",
    "    answer = 1\n",
    "    if(len(people) == 1):\n",
    "        answer = 1\n",
    "    else:\n",
    "        people = np.array(sorted(people))\n",
    "        people2 = people + people[0]\n",
    "        answer += len(np.where(people2 > limit)[0])\n",
    "        people = np.delete(people, np.where(people2 > limit)[0])\n",
    "        while(len(people) != 1):\n",
    "            if(len(people) == 0):\n",
    "                answer -= 1\n",
    "                break\n",
    "            elif(people[0] + people[-1] == limit):\n",
    "                people = np.delete(people,[0,len(people)-1])\n",
    "                answer += 1\n",
    "            else:\n",
    "                people2 = people + people[-1]\n",
    "                people = np.delete(people, [np.where(people2 <= limit)[0][-2], len(people)-1])\n",
    "                answer += 1\n",
    "    return answer"
   ]
  },
  {
   "cell_type": "code",
   "execution_count": 56,
   "metadata": {},
   "outputs": [
    {
     "data": {
      "text/plain": [
       "3"
      ]
     },
     "execution_count": 56,
     "metadata": {},
     "output_type": "execute_result"
    }
   ],
   "source": [
    "solution(people,limit)"
   ]
  },
  {
   "cell_type": "code",
   "execution_count": 50,
   "metadata": {},
   "outputs": [],
   "source": [
    "import numpy as np\n",
    "people = np.array(sorted(people))"
   ]
  },
  {
   "cell_type": "code",
   "execution_count": 36,
   "metadata": {},
   "outputs": [],
   "source": [
    "people2 = people + people[0]"
   ]
  },
  {
   "cell_type": "code",
   "execution_count": 40,
   "metadata": {},
   "outputs": [
    {
     "data": {
      "text/plain": [
       "2"
      ]
     },
     "execution_count": 40,
     "metadata": {},
     "output_type": "execute_result"
    }
   ],
   "source": [
    "len(np.where(people2 > limit)[0])"
   ]
  },
  {
   "cell_type": "code",
   "execution_count": 41,
   "metadata": {},
   "outputs": [],
   "source": [
    "people = np.delete(people, np.where(people2 > limit)[0])"
   ]
  }
 ],
 "metadata": {
  "kernelspec": {
   "display_name": "Python 3",
   "language": "python",
   "name": "python3"
  },
  "language_info": {
   "codemirror_mode": {
    "name": "ipython",
    "version": 3
   },
   "file_extension": ".py",
   "mimetype": "text/x-python",
   "name": "python",
   "nbconvert_exporter": "python",
   "pygments_lexer": "ipython3",
   "version": "3.7.4"
  }
 },
 "nbformat": 4,
 "nbformat_minor": 4
}
