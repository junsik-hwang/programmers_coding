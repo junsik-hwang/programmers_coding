{
 "cells": [
  {
   "cell_type": "code",
   "execution_count": 64,
   "metadata": {},
   "outputs": [],
   "source": [
    "prices = [1, 2, 3, 2, 3]"
   ]
  },
  {
   "cell_type": "code",
   "execution_count": 27,
   "metadata": {},
   "outputs": [],
   "source": [
    "# 효율성 1,2,3,4,5 실패\n",
    "import numpy as np\n",
    "\n",
    "def solution(prices):\n",
    "    answer = []\n",
    "    prices = np.array(prices)\n",
    "    for i in range(len(prices)-1):\n",
    "        if(prices[i] <= min(prices[i+1:])):\n",
    "            answer.append(len(prices) - i - 1)\n",
    "        else:\n",
    "            answer.append(np.where(prices[i+1:] < prices[i])[0][0] + 1)\n",
    "    answer.append(0)\n",
    "    return answer"
   ]
  },
  {
   "cell_type": "code",
   "execution_count": 28,
   "metadata": {},
   "outputs": [
    {
     "data": {
      "text/plain": [
       "[4, 3, 1, 1, 0]"
      ]
     },
     "execution_count": 28,
     "metadata": {},
     "output_type": "execute_result"
    }
   ],
   "source": [
    "solution(prices)"
   ]
  },
  {
   "cell_type": "code",
   "execution_count": 81,
   "metadata": {},
   "outputs": [],
   "source": [
    "# 효율성 3 실패\n",
    "from collections import deque\n",
    "def solution(prices):\n",
    "    prices = deque(prices)\n",
    "    answer = []\n",
    "    num = prices.popleft()\n",
    "    length = len(prices)\n",
    "    while(length != 0):\n",
    "        count = 0\n",
    "        for i in range(length):\n",
    "            if num <= prices[i]:\n",
    "                count += 1\n",
    "            else:\n",
    "                count += 1\n",
    "                break\n",
    "        answer += [count]\n",
    "        num = prices.popleft()\n",
    "        length -= 1\n",
    "    answer.append(0)\n",
    "    return answer"
   ]
  },
  {
   "cell_type": "code",
   "execution_count": 82,
   "metadata": {},
   "outputs": [
    {
     "data": {
      "text/plain": [
       "[4, 3, 1, 1, 0]"
      ]
     },
     "execution_count": 82,
     "metadata": {},
     "output_type": "execute_result"
    }
   ],
   "source": [
    "solution(prices)"
   ]
  },
  {
   "cell_type": "code",
   "execution_count": 86,
   "metadata": {},
   "outputs": [],
   "source": [
    "# 성공\n",
    "def solution(prices):\n",
    "    answer = [0] * len(prices)\n",
    "    for i in range(len(prices)-1) :\n",
    "        for j in range(i+1, len(prices)) :\n",
    "            answer[i] += 1\n",
    "            if prices[i] > prices[j] : \n",
    "                break\n",
    " \n",
    "    return answer"
   ]
  },
  {
   "cell_type": "code",
   "execution_count": 87,
   "metadata": {},
   "outputs": [
    {
     "data": {
      "text/plain": [
       "[4, 3, 1, 1, 0]"
      ]
     },
     "execution_count": 87,
     "metadata": {},
     "output_type": "execute_result"
    }
   ],
   "source": [
    "solution(prices)"
   ]
  }
 ],
 "metadata": {
  "kernelspec": {
   "display_name": "Python 3",
   "language": "python",
   "name": "python3"
  },
  "language_info": {
   "codemirror_mode": {
    "name": "ipython",
    "version": 3
   },
   "file_extension": ".py",
   "mimetype": "text/x-python",
   "name": "python",
   "nbconvert_exporter": "python",
   "pygments_lexer": "ipython3",
   "version": "3.8.3"
  }
 },
 "nbformat": 4,
 "nbformat_minor": 4
}
