{
 "cells": [
  {
   "cell_type": "code",
   "execution_count": 37,
   "metadata": {},
   "outputs": [],
   "source": [
    "priorities = [3,3,4,2]; location = 3"
   ]
  },
  {
   "cell_type": "code",
   "execution_count": 40,
   "metadata": {},
   "outputs": [],
   "source": [
    "from collections import deque\n",
    "\n",
    "def solution(priorities, location):\n",
    "    cnt = 0\n",
    "    priorities = deque(priorities)\n",
    "    prioritie1 = deque([0]*len(priorities))\n",
    "    prioritie1[location] = 1\n",
    "    while(1):\n",
    "        if(len(priorities) == 1):\n",
    "            cnt += 1\n",
    "            break\n",
    "        else:\n",
    "            num  = priorities.popleft()\n",
    "            num1 = prioritie1.popleft()\n",
    "            if(num >= max(priorities)):\n",
    "                cnt += 1\n",
    "                if(num1 == 1):\n",
    "                    break\n",
    "            else:\n",
    "                priorities.append(num)\n",
    "                prioritie1.append(num1)\n",
    "    return cnt"
   ]
  },
  {
   "cell_type": "code",
   "execution_count": 41,
   "metadata": {},
   "outputs": [
    {
     "data": {
      "text/plain": [
       "4"
      ]
     },
     "execution_count": 41,
     "metadata": {},
     "output_type": "execute_result"
    }
   ],
   "source": [
    "solution(priorities, location)"
   ]
  },
  {
   "cell_type": "code",
   "execution_count": null,
   "metadata": {},
   "outputs": [],
   "source": []
  }
 ],
 "metadata": {
  "kernelspec": {
   "display_name": "Python 3",
   "language": "python",
   "name": "python3"
  },
  "language_info": {
   "codemirror_mode": {
    "name": "ipython",
    "version": 3
   },
   "file_extension": ".py",
   "mimetype": "text/x-python",
   "name": "python",
   "nbconvert_exporter": "python",
   "pygments_lexer": "ipython3",
   "version": "3.8.3"
  }
 },
 "nbformat": 4,
 "nbformat_minor": 4
}
