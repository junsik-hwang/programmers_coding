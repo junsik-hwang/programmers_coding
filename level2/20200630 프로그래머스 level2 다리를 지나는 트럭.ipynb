{
 "cells": [
  {
   "cell_type": "code",
   "execution_count": 28,
   "metadata": {},
   "outputs": [],
   "source": [
    "bridge_length = 100; weight = 100; truck_weights = [10,10,10,10,10,10,10,10,10,10]"
   ]
  },
  {
   "cell_type": "code",
   "execution_count": 29,
   "metadata": {},
   "outputs": [],
   "source": [
    "def solution(bridge_length, weight, truck_weights):\n",
    "    time = 1; n = 1; stack = [truck_weights[0]]\n",
    "    if(len(truck_weights) == 1):\n",
    "        time = bridge_length + 1\n",
    "    elif(sum(truck_weights) <= weight):\n",
    "        time = bridge_length + len(truck_weights)\n",
    "    else:\n",
    "        while(n < len(truck_weights)):\n",
    "            if(len(stack) == bridge_length):\n",
    "                stack.pop()\n",
    "            if(sum(stack) + truck_weights[n] <= weight):\n",
    "                stack.insert(0, truck_weights[n])\n",
    "                time += 1\n",
    "                n += 1\n",
    "            else:\n",
    "                stack.insert(0,0)\n",
    "                time += 1\n",
    "        while(sum(stack) != 0):\n",
    "            if(len(stack) == bridge_length):\n",
    "                stack.pop()\n",
    "                stack.insert(0,0)\n",
    "                time += 1\n",
    "    return time"
   ]
  },
  {
   "cell_type": "code",
   "execution_count": 33,
   "metadata": {},
   "outputs": [
    {
     "data": {
      "text/plain": [
       "110"
      ]
     },
     "execution_count": 33,
     "metadata": {},
     "output_type": "execute_result"
    }
   ],
   "source": [
    "solution(bridge_length, weight, truck_weights)"
   ]
  },
  {
   "cell_type": "code",
   "execution_count": null,
   "metadata": {},
   "outputs": [],
   "source": [
    "# 시간 초과 1건 (테스트 5)\n",
    "def solution(bridge_length, weight, truck_weights):\n",
    "    time = 1; n = 1; stack = [truck_weights[0]]\n",
    "    if(len(truck_weights) == 1):\n",
    "        time = bridge_length + 1\n",
    "    elif(sum(truck_weights) <= weight):\n",
    "        time = bridge_length + len(truck_weights)\n",
    "    else:\n",
    "        while(n < len(truck_weights)):\n",
    "            if(len(stack) == bridge_length):\n",
    "                stack.pop()\n",
    "            if(sum(stack) + truck_weights[n] <= weight):\n",
    "                stack.insert(0, truck_weights[n])\n",
    "                time += 1\n",
    "                n += 1\n",
    "            else:\n",
    "                stack.insert(0,0)\n",
    "                time += 1\n",
    "        if(sum(stack) != 0):\n",
    "            time += bridge_length\n",
    "    return time"
   ]
  },
  {
   "cell_type": "code",
   "execution_count": 70,
   "metadata": {},
   "outputs": [],
   "source": [
    "bridge_length = 2; weight = 10; truck_weights = [7,4,5,6]"
   ]
  },
  {
   "cell_type": "code",
   "execution_count": 77,
   "metadata": {},
   "outputs": [],
   "source": [
    "def solution(bridge_length, weight, truck_weights):\n",
    "    time = 1; n = 1; stack = [truck_weights[0]]; total = truck_weights[0]\n",
    "    if(len(truck_weights) == 1):\n",
    "        time = bridge_length + 1\n",
    "    elif(sum(truck_weights) <= weight):\n",
    "        time = bridge_length + len(truck_weights)\n",
    "    else:\n",
    "        while(n < len(truck_weights)):\n",
    "            if(len(stack) == bridge_length):\n",
    "                total -= stack.pop()\n",
    "            if(total + truck_weights[n] <= weight):\n",
    "                stack.insert(0, truck_weights[n])\n",
    "                total += truck_weights[n]\n",
    "                time += 1\n",
    "                n += 1\n",
    "            else:\n",
    "                stack.insert(0,0)\n",
    "                time += 1\n",
    "        if(total != 0):\n",
    "            time += bridge_length\n",
    "    return time"
   ]
  },
  {
   "cell_type": "code",
   "execution_count": 78,
   "metadata": {},
   "outputs": [
    {
     "data": {
      "text/plain": [
       "8"
      ]
     },
     "execution_count": 78,
     "metadata": {},
     "output_type": "execute_result"
    }
   ],
   "source": [
    "solution(bridge_length, weight, truck_weights)"
   ]
  },
  {
   "cell_type": "code",
   "execution_count": null,
   "metadata": {},
   "outputs": [],
   "source": []
  },
  {
   "cell_type": "code",
   "execution_count": null,
   "metadata": {},
   "outputs": [],
   "source": []
  }
 ],
 "metadata": {
  "kernelspec": {
   "display_name": "Python 3",
   "language": "python",
   "name": "python3"
  },
  "language_info": {
   "codemirror_mode": {
    "name": "ipython",
    "version": 3
   },
   "file_extension": ".py",
   "mimetype": "text/x-python",
   "name": "python",
   "nbconvert_exporter": "python",
   "pygments_lexer": "ipython3",
   "version": "3.7.4"
  }
 },
 "nbformat": 4,
 "nbformat_minor": 4
}
