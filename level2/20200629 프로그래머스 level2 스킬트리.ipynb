{
 "cells": [
  {
   "cell_type": "code",
   "execution_count": 7,
   "metadata": {},
   "outputs": [],
   "source": [
    "skill = \"CBD\"; skill_trees = [\"BACDE\", \"CBADF\", \"AECB\", \"BDA\"]"
   ]
  },
  {
   "cell_type": "code",
   "execution_count": 8,
   "metadata": {},
   "outputs": [],
   "source": [
    "def search(a,b):\n",
    "    c = list(b)\n",
    "    d = 1\n",
    "    for i in range(len(c)-1,-1,-1):\n",
    "        if(c[i] not in a):\n",
    "            del c[i]\n",
    "    if(len(c) == 0):\n",
    "        d = 1\n",
    "    else:\n",
    "        for i in range(len(c)):\n",
    "            if(c[i] != a[i]):\n",
    "                d = 0\n",
    "    return d\n",
    "            \n",
    "    \n",
    "def solution(skill, skill_trees):\n",
    "    answer = 0; skill = list(skill)\n",
    "    for i in range(len(skill_trees)):\n",
    "        answer += search(skill,skill_trees[i])\n",
    "    return answer"
   ]
  },
  {
   "cell_type": "code",
   "execution_count": 9,
   "metadata": {},
   "outputs": [
    {
     "data": {
      "text/plain": [
       "2"
      ]
     },
     "execution_count": 9,
     "metadata": {},
     "output_type": "execute_result"
    }
   ],
   "source": [
    "solution(skill, skill_trees)"
   ]
  },
  {
   "cell_type": "code",
   "execution_count": null,
   "metadata": {},
   "outputs": [],
   "source": []
  }
 ],
 "metadata": {
  "kernelspec": {
   "display_name": "Python 3",
   "language": "python",
   "name": "python3"
  },
  "language_info": {
   "codemirror_mode": {
    "name": "ipython",
    "version": 3
   },
   "file_extension": ".py",
   "mimetype": "text/x-python",
   "name": "python",
   "nbconvert_exporter": "python",
   "pygments_lexer": "ipython3",
   "version": "3.7.4"
  }
 },
 "nbformat": 4,
 "nbformat_minor": 4
}
