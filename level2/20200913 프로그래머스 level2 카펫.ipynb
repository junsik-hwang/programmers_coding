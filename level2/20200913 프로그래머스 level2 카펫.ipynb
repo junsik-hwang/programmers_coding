{
 "cells": [
  {
   "cell_type": "code",
   "execution_count": 27,
   "metadata": {},
   "outputs": [],
   "source": [
    "brown, yellow = 24,24"
   ]
  },
  {
   "cell_type": "code",
   "execution_count": null,
   "metadata": {},
   "outputs": [],
   "source": [
    "# 2,3,8,9,10 실패\n",
    "answer = []\n",
    "for i in range(1, yellow+1):\n",
    "    if 2 * (int(yellow / i) + 2) + (i * 2) == brown:\n",
    "        answer = [int(yellow/i+2) ,i+2]\n",
    "        break\n",
    "answer"
   ]
  },
  {
   "cell_type": "code",
   "execution_count": null,
   "metadata": {},
   "outputs": [],
   "source": [
    "def solution(brown, yellow):\n",
    "    answer = []\n",
    "    for i in range(1, yellow+1):\n",
    "        if yellow / i == int(yellow / i):\n",
    "            if 2 * (int(yellow / i) + 2) + (i * 2) == brown:\n",
    "                answer = [int(yellow/i+2) ,i+2]\n",
    "                break\n",
    "    return answer"
   ]
  }
 ],
 "metadata": {
  "kernelspec": {
   "display_name": "Python 3",
   "language": "python",
   "name": "python3"
  },
  "language_info": {
   "codemirror_mode": {
    "name": "ipython",
    "version": 3
   },
   "file_extension": ".py",
   "mimetype": "text/x-python",
   "name": "python",
   "nbconvert_exporter": "python",
   "pygments_lexer": "ipython3",
   "version": "3.8.3"
  }
 },
 "nbformat": 4,
 "nbformat_minor": 4
}
