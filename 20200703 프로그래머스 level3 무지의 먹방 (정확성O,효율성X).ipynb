{
 "cells": [
  {
   "cell_type": "code",
   "execution_count": 67,
   "metadata": {},
   "outputs": [],
   "source": [
    "food_times = [3,1,2]; k = 5"
   ]
  },
  {
   "cell_type": "code",
   "execution_count": 68,
   "metadata": {},
   "outputs": [],
   "source": [
    "import numpy as np\n",
    "def solution(food_times, k):\n",
    "    answer = 0\n",
    "    if(sum(food_times) < k):\n",
    "        answer = -1\n",
    "    else:\n",
    "        food_times = np.array(food_times)\n",
    "        number = np.array(range(1,len(food_times)+1))\n",
    "        while(1):\n",
    "            if(k >= len(food_times)):\n",
    "                k -= len(food_times)\n",
    "                food_times -= 1\n",
    "                if(len(np.where(food_times == 0)[0]) >= 1):\n",
    "                    point = np.where(food_times == 0)[0]\n",
    "                    food_times = np.delete(food_times, point)\n",
    "                    number = np.delete(number, point)\n",
    "            else:\n",
    "                answer = number[k]\n",
    "                break\n",
    "    return answer"
   ]
  },
  {
   "cell_type": "code",
   "execution_count": 69,
   "metadata": {},
   "outputs": [
    {
     "data": {
      "text/plain": [
       "1"
      ]
     },
     "execution_count": 69,
     "metadata": {},
     "output_type": "execute_result"
    }
   ],
   "source": [
    "solution(food_times, k)"
   ]
  },
  {
   "cell_type": "code",
   "execution_count": null,
   "metadata": {},
   "outputs": [],
   "source": [
    "# 정확성 100% / 효율성 0%\n",
    "import numpy as np\n",
    "def solution(food_times, k):\n",
    "    answer = 0\n",
    "    if(sum(food_times) <= k):\n",
    "        answer = -1\n",
    "    elif(len(food_times) > k):\n",
    "        answer = k+1\n",
    "    else:\n",
    "        food_times = np.array(food_times)\n",
    "        number = np.array(range(1,len(food_times)+1))\n",
    "        while(k >= len(food_times)):\n",
    "            k -= len(food_times)\n",
    "            food_times -= 1\n",
    "            if(len(np.where(food_times == 0)[0]) >= 1):\n",
    "                point = np.where(food_times == 0)[0]\n",
    "                food_times = np.delete(food_times, point)\n",
    "                number = np.delete(number, point)\n",
    "        answer = number[k]\n",
    "    return answer"
   ]
  }
 ],
 "metadata": {
  "kernelspec": {
   "display_name": "Python 3",
   "language": "python",
   "name": "python3"
  },
  "language_info": {
   "codemirror_mode": {
    "name": "ipython",
    "version": 3
   },
   "file_extension": ".py",
   "mimetype": "text/x-python",
   "name": "python",
   "nbconvert_exporter": "python",
   "pygments_lexer": "ipython3",
   "version": "3.7.4"
  }
 },
 "nbformat": 4,
 "nbformat_minor": 4
}
